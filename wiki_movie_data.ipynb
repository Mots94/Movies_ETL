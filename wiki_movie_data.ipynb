{
 "cells": [
  {
   "cell_type": "code",
   "execution_count": 1,
   "metadata": {},
   "outputs": [],
   "source": [
    "import json\n",
    "import pandas as pd\n",
    "import numpy as np"
   ]
  },
  {
   "cell_type": "code",
   "execution_count": 2,
   "metadata": {},
   "outputs": [],
   "source": [
    "file_dir = 'C:/Users/Ryan/Documents/BootCamp/SQL/Movies_ETL/Raw_Data_Files/'"
   ]
  },
  {
   "cell_type": "code",
   "execution_count": 3,
   "metadata": {},
   "outputs": [
    {
     "data": {
      "text/plain": [
       "'C:/Users/Ryan/Documents/BootCamp/SQL/Movies_ETL/Raw_Data_Files/wikipedia-movies.json'"
      ]
     },
     "execution_count": 3,
     "metadata": {},
     "output_type": "execute_result"
    }
   ],
   "source": [
    "f'{file_dir}wikipedia-movies.json'"
   ]
  },
  {
   "cell_type": "code",
   "execution_count": 4,
   "metadata": {},
   "outputs": [],
   "source": [
    "with open(f'{file_dir}wikipedia-movies.json', mode='r') as file:\n",
    "    wiki_movies_raw = json.load(file)"
   ]
  },
  {
   "cell_type": "code",
   "execution_count": 5,
   "metadata": {},
   "outputs": [
    {
     "data": {
      "text/plain": [
       "7311"
      ]
     },
     "execution_count": 5,
     "metadata": {},
     "output_type": "execute_result"
    }
   ],
   "source": [
    "len(wiki_movies_raw)"
   ]
  },
  {
   "cell_type": "code",
   "execution_count": 32,
   "metadata": {},
   "outputs": [
    {
     "data": {
      "text/plain": [
       "[{'url': 'https://en.wikipedia.org/wiki/The_Adventures_of_Ford_Fairlane',\n",
       "  'year': 1990,\n",
       "  'imdb_link': 'https://www.imdb.com/title/tt0098987/',\n",
       "  'title': 'The Adventures of Ford Fairlane',\n",
       "  'Directed by': 'Renny Harlin',\n",
       "  'Produced by': ['Steve Perry', 'Joel Silver'],\n",
       "  'Screenplay by': ['David Arnott', 'James Cappe', 'Daniel Waters'],\n",
       "  'Story by': ['David Arnott', 'James Cappe'],\n",
       "  'Based on': ['Characters', 'by Rex Weiner'],\n",
       "  'Starring': ['Andrew Dice Clay',\n",
       "   'Wayne Newton',\n",
       "   'Priscilla Presley',\n",
       "   'Lauren Holly',\n",
       "   'Morris Day',\n",
       "   'Robert Englund',\n",
       "   \"Ed O'Neill\"],\n",
       "  'Narrated by': 'Andrew \"Dice\" Clay',\n",
       "  'Music by': ['Cliff Eidelman', 'Yello'],\n",
       "  'Cinematography': 'Oliver Wood',\n",
       "  'Edited by': 'Michael Tronick',\n",
       "  'Productioncompany ': 'Silver Pictures',\n",
       "  'Distributed by': '20th Century Fox',\n",
       "  'Release date': ['July 11, 1990', '(', '1990-07-11', ')'],\n",
       "  'Running time': '102 minutes',\n",
       "  'Country': 'United States',\n",
       "  'Language': 'English',\n",
       "  'Budget': '$20 million',\n",
       "  'Box office': '$21.4 million'},\n",
       " {'url': 'https://en.wikipedia.org/wiki/After_Dark,_My_Sweet',\n",
       "  'year': 1990,\n",
       "  'imdb_link': 'https://www.imdb.com/title/tt0098994/',\n",
       "  'title': 'After Dark, My Sweet',\n",
       "  'Directed by': 'James Foley',\n",
       "  'Produced by': ['Ric Kidney', 'Robert Redlin'],\n",
       "  'Screenplay by': ['James Foley', 'Robert Redlin'],\n",
       "  'Based on': ['the novel', 'After Dark, My Sweet', 'by', 'Jim Thompson'],\n",
       "  'Starring': ['Jason Patric',\n",
       "   'Rachel Ward',\n",
       "   'Bruce Dern',\n",
       "   'George Dickerson'],\n",
       "  'Music by': 'Maurice Jarre',\n",
       "  'Cinematography': 'Mark Plummer',\n",
       "  'Edited by': 'Howard E. Smith',\n",
       "  'Productioncompany ': 'Avenue Pictures',\n",
       "  'Distributed by': 'Avenue Pictures',\n",
       "  'Release date': ['May 17, 1990',\n",
       "   '(',\n",
       "   '1990-05-17',\n",
       "   ')',\n",
       "   '(Cannes Film Market)',\n",
       "   'August 24, 1990',\n",
       "   '(',\n",
       "   '1990-08-24',\n",
       "   ')',\n",
       "   '(United States)'],\n",
       "  'Running time': '114 minutes',\n",
       "  'Country': 'United States',\n",
       "  'Language': 'English',\n",
       "  'Budget': '$6 million',\n",
       "  'Box office': '$2.7 million'},\n",
       " {'url': 'https://en.wikipedia.org/wiki/Air_America_(film)',\n",
       "  'year': 1990,\n",
       "  'imdb_link': 'https://www.imdb.com/title/tt0099005/',\n",
       "  'title': 'Air America',\n",
       "  'Directed by': 'Roger Spottiswoode',\n",
       "  'Produced by': 'Daniel Melnick',\n",
       "  'Screenplay by': ['John Eskow', 'Richard Rush'],\n",
       "  'Based on': ['Air America', 'by', 'Christopher Robbins'],\n",
       "  'Starring': ['Mel Gibson',\n",
       "   'Robert Downey Jr.',\n",
       "   'Nancy Travis',\n",
       "   'David Marshall Grant',\n",
       "   'Lane Smith'],\n",
       "  'Music by': 'Charles Gross',\n",
       "  'Cinematography': 'Roger Deakins',\n",
       "  'Edited by': ['John Bloom', 'Lois Freeman-Fox'],\n",
       "  'Productioncompany ': ['Carolco Pictures', 'IndieProd Company'],\n",
       "  'Distributed by': 'TriStar Pictures',\n",
       "  'Release date': ['August 10, 1990', '(', '1990-08-10', ')'],\n",
       "  'Running time': '113 minutes',\n",
       "  'Country': 'United States',\n",
       "  'Language': ['English', 'Lao'],\n",
       "  'Budget': '$35 million',\n",
       "  'Box office': '$57,718,089'},\n",
       " {'url': 'https://en.wikipedia.org/wiki/Alice_(1990_film)',\n",
       "  'year': 1990,\n",
       "  'imdb_link': 'https://www.imdb.com/title/tt0099012/',\n",
       "  'title': 'Alice',\n",
       "  'Directed by': 'Woody Allen',\n",
       "  'Produced by': 'Robert Greenhut',\n",
       "  'Written by': 'Woody Allen',\n",
       "  'Starring': ['Alec Baldwin',\n",
       "   'Blythe Danner',\n",
       "   'Judy Davis',\n",
       "   'Mia Farrow',\n",
       "   'William Hurt',\n",
       "   'Keye Luke',\n",
       "   'Joe Mantegna',\n",
       "   'Bernadette Peters'],\n",
       "  'Cinematography': 'Carlo Di Palma',\n",
       "  'Edited by': 'Susan E. Morse',\n",
       "  'Distributed by': 'Orion Pictures',\n",
       "  'Release date': ['December 25, 1990', '(', '1990-12-25', ')'],\n",
       "  'Running time': '106 minutes',\n",
       "  'Country': 'United States',\n",
       "  'Language': 'English',\n",
       "  'Budget': '$12 million',\n",
       "  'Box office': '$7,331,647'},\n",
       " {'url': 'https://en.wikipedia.org/wiki/Almost_an_Angel',\n",
       "  'year': 1990,\n",
       "  'imdb_link': 'https://www.imdb.com/title/tt0099018/',\n",
       "  'title': 'Almost an Angel',\n",
       "  'Directed by': 'John Cornell',\n",
       "  'Produced by': 'John Cornell',\n",
       "  'Written by': 'Paul Hogan',\n",
       "  'Starring': ['Paul Hogan', 'Elias Koteas', 'Linda Kozlowski'],\n",
       "  'Music by': 'Maurice Jarre',\n",
       "  'Cinematography': 'Russell Boyd',\n",
       "  'Edited by': 'David Stiven',\n",
       "  'Distributed by': 'Paramount Pictures',\n",
       "  'Release date': 'December 19, 1990',\n",
       "  'Running time': '95 minutes',\n",
       "  'Country': 'US',\n",
       "  'Language': 'English',\n",
       "  'Budget': '$25 million',\n",
       "  'Box office': '$6,939,946 (USA)'}]"
      ]
     },
     "execution_count": 32,
     "metadata": {},
     "output_type": "execute_result"
    }
   ],
   "source": [
    "wiki_movies_raw[:5]"
   ]
  },
  {
   "cell_type": "code",
   "execution_count": null,
   "metadata": {},
   "outputs": [],
   "source": [
    "wiki_movies_raw[-5:]"
   ]
  },
  {
   "cell_type": "code",
   "execution_count": null,
   "metadata": {},
   "outputs": [],
   "source": [
    "wiki_movies_raw[3000:3005]"
   ]
  },
  {
   "cell_type": "code",
   "execution_count": 6,
   "metadata": {},
   "outputs": [],
   "source": [
    "movies_metadata = pd.read_csv(f'{file_dir}movies_metadata.csv', low_memory=False)\n",
    "ratings = pd.read_csv(f'{file_dir}ratings.csv')"
   ]
  },
  {
   "cell_type": "code",
   "execution_count": null,
   "metadata": {},
   "outputs": [],
   "source": [
    "movies_metadata.head()"
   ]
  },
  {
   "cell_type": "code",
   "execution_count": null,
   "metadata": {},
   "outputs": [],
   "source": [
    "ratings.head()"
   ]
  },
  {
   "cell_type": "code",
   "execution_count": null,
   "metadata": {},
   "outputs": [],
   "source": [
    "movies_metadata.sample(n=5)"
   ]
  },
  {
   "cell_type": "code",
   "execution_count": null,
   "metadata": {},
   "outputs": [],
   "source": [
    "ratings.sample(n=5)"
   ]
  },
  {
   "cell_type": "code",
   "execution_count": 7,
   "metadata": {},
   "outputs": [],
   "source": [
    "wiki_movies_df = pd.DataFrame(wiki_movies_raw)"
   ]
  },
  {
   "cell_type": "code",
   "execution_count": null,
   "metadata": {},
   "outputs": [],
   "source": [
    "wiki_movies_df.head()"
   ]
  },
  {
   "cell_type": "code",
   "execution_count": 8,
   "metadata": {},
   "outputs": [
    {
     "data": {
      "text/plain": [
       "['url',\n",
       " 'year',\n",
       " 'imdb_link',\n",
       " 'title',\n",
       " 'Directed by',\n",
       " 'Produced by',\n",
       " 'Screenplay by',\n",
       " 'Story by',\n",
       " 'Based on',\n",
       " 'Starring',\n",
       " 'Narrated by',\n",
       " 'Music by',\n",
       " 'Cinematography',\n",
       " 'Edited by',\n",
       " 'Productioncompany ',\n",
       " 'Distributed by',\n",
       " 'Release date',\n",
       " 'Running time',\n",
       " 'Country',\n",
       " 'Language',\n",
       " 'Budget',\n",
       " 'Box office',\n",
       " 'Written by',\n",
       " 'Genre',\n",
       " 'Theme music composer',\n",
       " 'Country of origin',\n",
       " 'Original language(s)',\n",
       " 'Producer(s)',\n",
       " 'Editor(s)',\n",
       " 'Production company(s)',\n",
       " 'Original network',\n",
       " 'Original release',\n",
       " 'Productioncompanies ',\n",
       " 'Executive producer(s)',\n",
       " 'Production location(s)',\n",
       " 'Distributor',\n",
       " 'Picture format',\n",
       " 'Audio format',\n",
       " 'Voices of',\n",
       " 'Followed by',\n",
       " 'Composer(s)',\n",
       " 'Created by',\n",
       " 'Also known as',\n",
       " 'Opening theme',\n",
       " 'No. of episodes',\n",
       " 'Preceded by',\n",
       " 'Author',\n",
       " 'Publisher',\n",
       " 'Publication date',\n",
       " 'Media type',\n",
       " 'Pages',\n",
       " 'ISBN',\n",
       " 'OCLC',\n",
       " 'LC Class',\n",
       " 'Cover artist',\n",
       " 'Series',\n",
       " 'Set in',\n",
       " 'Adaptation by',\n",
       " 'Suggested by',\n",
       " 'Biographical data',\n",
       " 'Born',\n",
       " 'Died',\n",
       " 'Resting place',\n",
       " 'Occupation',\n",
       " 'Years active',\n",
       " 'Spouse(s)',\n",
       " 'Children',\n",
       " 'Parent(s)',\n",
       " 'Genres',\n",
       " 'Instruments',\n",
       " 'Labels',\n",
       " 'Website',\n",
       " 'Traditional',\n",
       " 'Mandarin',\n",
       " 'Type',\n",
       " 'Industry',\n",
       " 'Fate',\n",
       " 'Founded',\n",
       " 'Founder',\n",
       " 'Headquarters',\n",
       " 'Parent',\n",
       " 'Released',\n",
       " 'Recorded',\n",
       " 'Venue',\n",
       " 'Length',\n",
       " 'Label',\n",
       " 'Director',\n",
       " 'Producer',\n",
       " 'Area',\n",
       " 'Coordinates',\n",
       " 'Status',\n",
       " 'Opening date',\n",
       " 'Closing date',\n",
       " 'Replaced',\n",
       " 'Replaced by',\n",
       " 'Name',\n",
       " 'Attraction type',\n",
       " 'Music',\n",
       " 'Duration',\n",
       " 'Simplified Chinese',\n",
       " 'Traditional Chinese',\n",
       " 'Hanyu Pinyin',\n",
       " 'Literal meaning',\n",
       " 'Transcriptions',\n",
       " 'Bopomofo',\n",
       " 'Gwoyeu Romatzyh',\n",
       " 'Wade–Giles',\n",
       " 'IPA',\n",
       " 'Yale Romanization',\n",
       " 'Jyutping',\n",
       " 'Hokkien POJ',\n",
       " 'Animation by',\n",
       " 'Color process',\n",
       " 'Engine(s)',\n",
       " 'Genre(s)',\n",
       " 'Actor control',\n",
       " 'Production company',\n",
       " 'Release(s)',\n",
       " 'Format(s)',\n",
       " 'Simplified',\n",
       " 'Characters',\n",
       " 'Date premiered',\n",
       " 'Place premiered',\n",
       " 'Setting',\n",
       " 'Original language',\n",
       " 'Subject',\n",
       " 'Published',\n",
       " 'Dewey Decimal',\n",
       " 'Text',\n",
       " 'Illustrator',\n",
       " 'Original title',\n",
       " 'Published in English',\n",
       " 'French',\n",
       " 'Developed by',\n",
       " 'Ending theme',\n",
       " 'No. of seasons',\n",
       " 'Nationality',\n",
       " 'Portrayed by',\n",
       " 'Alias',\n",
       " 'Species',\n",
       " 'Gender',\n",
       " 'Family',\n",
       " 'Alma mater',\n",
       " 'Camera setup',\n",
       " 'Novel(s)',\n",
       " 'Comics',\n",
       " 'Film(s)',\n",
       " 'Screen story by',\n",
       " 'Hangul',\n",
       " 'Revised Romanization',\n",
       " 'McCune–Reischauer',\n",
       " 'Developer(s)',\n",
       " 'Publisher(s)',\n",
       " 'Designer(s)',\n",
       " 'Programmer(s)',\n",
       " 'Artist(s)',\n",
       " 'Writer(s)',\n",
       " 'Engine',\n",
       " 'Platform(s)',\n",
       " 'Release',\n",
       " 'Mode(s)',\n",
       " 'Original work',\n",
       " 'Television series',\n",
       " 'Japanese',\n",
       " 'Hepburn',\n",
       " 'Literally',\n",
       " 'Cantonese',\n",
       " 'Full name',\n",
       " 'Height',\n",
       " 'Seasons',\n",
       " 'Chinese',\n",
       " 'Other names',\n",
       " 'Relatives',\n",
       " 'Yiddish',\n",
       " 'Formerly',\n",
       " 'Key people',\n",
       " 'Total assets',\n",
       " 'Owner',\n",
       " 'Number of employees',\n",
       " 'Divisions',\n",
       " 'Subsidiaries',\n",
       " 'Arabic',\n",
       " 'Romanized',\n",
       " 'Predecessor',\n",
       " 'Founders',\n",
       " 'Area served',\n",
       " 'Products',\n",
       " 'Services',\n",
       " 'Russian',\n",
       " 'Hebrew',\n",
       " 'Revenue',\n",
       " 'Operating income',\n",
       " 'Polish']"
      ]
     },
     "execution_count": 8,
     "metadata": {},
     "output_type": "execute_result"
    }
   ],
   "source": [
    "wiki_movies_df.columns.to_list()"
   ]
  },
  {
   "cell_type": "code",
   "execution_count": 9,
   "metadata": {},
   "outputs": [
    {
     "data": {
      "text/plain": [
       "7076"
      ]
     },
     "execution_count": 9,
     "metadata": {},
     "output_type": "execute_result"
    }
   ],
   "source": [
    "wiki_movies = [movie for movie in wiki_movies_raw\n",
    "\n",
    "              if('Director' in movie or 'Directed by' in movie) \n",
    "\n",
    "                  and 'imdb_link' in movie\n",
    "                  \n",
    "                  and 'No. of episodes' not in movie]\n",
    "\n",
    "len(wiki_movies)"
   ]
  },
  {
   "cell_type": "code",
   "execution_count": 10,
   "metadata": {},
   "outputs": [],
   "source": [
    "wiki_movies_fil = pd.DataFrame(wiki_movies)"
   ]
  },
  {
   "cell_type": "code",
   "execution_count": null,
   "metadata": {},
   "outputs": [],
   "source": [
    "wiki_movies_fil.head()"
   ]
  },
  {
   "cell_type": "code",
   "execution_count": null,
   "metadata": {},
   "outputs": [],
   "source": [
    "sorted(wiki_movies_df.columns.to_list())"
   ]
  },
  {
   "cell_type": "code",
   "execution_count": 26,
   "metadata": {},
   "outputs": [
    {
     "data": {
      "text/plain": [
       "7076"
      ]
     },
     "execution_count": 26,
     "metadata": {},
     "output_type": "execute_result"
    }
   ],
   "source": [
    "wiki_movies_fil['Arabic'].notnull().count()"
   ]
  },
  {
   "cell_type": "code",
   "execution_count": null,
   "metadata": {},
   "outputs": [],
   "source": [
    "# Alternate title column names\n",
    "# Arabic, Bopomofo, Cantonese"
   ]
  },
  {
   "cell_type": "code",
   "execution_count": null,
   "metadata": {},
   "outputs": [],
   "source": [
    "def clean_movie(movie):\n",
    "\n",
    "    movie = dict(movie) #Non-destructive copy of local variable\n",
    "\n",
    "    alternative_titles = {} #Create dict of all alternative title keys/values\n",
    "\n",
    "    #Loop through list of alternative title keys\n",
    "    for key in ['Also known as', 'Arabic', 'Cantonese', 'Chinese', 'French',\n",
    "                'Hangul', 'Hebrew', 'Hepburn', 'Japanese', 'Literally', 'Mandarin',\n",
    "                'McCune-Reischauer', 'Original title', 'Polish', 'Revised Romanization',\n",
    "                'Romanized', 'Russion', 'Simplified', 'Traditional', 'Yiddish']:\n",
    "    \n",
    "    #If key exists, remove key-value pair and add to alternative titles dict\n",
    "        if key in movie:\n",
    "\n",
    "            alternative_titles[key] = movie[key]\n",
    "\n",
    "            movie.pop(key)\n",
    "\n",
    "        if len(alternative_titles) > 0:\n",
    "\n",
    "            movie['alternative_titles'] = alternative_titles\n",
    "\n",
    "    return movie"
   ]
  }
 ],
 "metadata": {
  "kernelspec": {
   "display_name": "PythonData",
   "language": "python",
   "name": "pythondata"
  },
  "language_info": {
   "codemirror_mode": {
    "name": "ipython",
    "version": 3
   },
   "file_extension": ".py",
   "mimetype": "text/x-python",
   "name": "python",
   "nbconvert_exporter": "python",
   "pygments_lexer": "ipython3",
   "version": "3.7.6"
  },
  "orig_nbformat": 4
 },
 "nbformat": 4,
 "nbformat_minor": 2
}
